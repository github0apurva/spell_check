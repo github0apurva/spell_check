{
  "nbformat": 4,
  "nbformat_minor": 0,
  "metadata": {
    "colab": {
      "name": "spell_check_co.ipynb",
      "provenance": [],
      "collapsed_sections": [],
      "authorship_tag": "ABX9TyNRnqQ23QOVopbwrXbrDB8J",
      "include_colab_link": true
    },
    "kernelspec": {
      "name": "python3",
      "display_name": "Python 3"
    }
  },
  "cells": [
    {
      "cell_type": "markdown",
      "metadata": {
        "id": "view-in-github",
        "colab_type": "text"
      },
      "source": [
        "<a href=\"https://colab.research.google.com/github/github0apurva/spell_check/blob/master/spell_check_co.ipynb\" target=\"_parent\"><img src=\"https://colab.research.google.com/assets/colab-badge.svg\" alt=\"Open In Colab\"/></a>"
      ]
    },
    {
      "cell_type": "code",
      "metadata": {
        "id": "GZeSK1z-TigA",
        "colab_type": "code",
        "outputId": "9d97022c-d0a3-4394-de04-6605d2e4d125",
        "colab": {
          "base_uri": "https://localhost:8080/",
          "height": 35
        }
      },
      "source": [
        "import numpy as np\n",
        "!pip install -q symspellpy\n",
        "from symspellpy.symspellpy import SymSpell"
      ],
      "execution_count": 0,
      "outputs": [
        {
          "output_type": "stream",
          "text": [
            "\u001b[K     |████████████████████████████████| 2.6MB 2.6MB/s \n",
            "\u001b[?25h"
          ],
          "name": "stdout"
        }
      ]
    },
    {
      "cell_type": "code",
      "metadata": {
        "id": "3z-sN-dZTfa3",
        "colab_type": "code",
        "outputId": "a371d0e8-9eb9-4b59-f357-a953c89e886f",
        "colab": {
          "base_uri": "https://localhost:8080/",
          "height": 35
        }
      },
      "source": [
        "#wordfrequency_en.txt  ensures high correction quality by combining two data sources: \n",
        "#Google Books Ngram data  provides representative word frequencies (but contains many entries with spelling errors)  \n",
        "#SCOWL — Spell Checker Oriented Word Lists which ensures genuine English vocabulary (but contained no word frequencies)\n",
        "# have downloaded it to colab files, using the direct url path didnt worked\n",
        "path01 = \"frequency_dictionary_en_82_765.txt\"\n",
        "path02 = \"frequency_bigramdictionary_en_243_342.txt\"\n",
        "#Load the frequency dictionaries\n",
        "max_edit_distance_dictionary = 2\n",
        "prefix_length = 7\n",
        "symspell = SymSpell(max_edit_distance_dictionary, prefix_length)\n",
        "symspell.load_dictionary(corpus = path01 , term_index = 0, count_index = 1 )\n",
        "symspell.load_bigram_dictionary(corpus = path02 , term_index = 0, count_index = 2 )"
      ],
      "execution_count": 0,
      "outputs": [
        {
          "output_type": "execute_result",
          "data": {
            "text/plain": [
              "True"
            ]
          },
          "metadata": {
            "tags": []
          },
          "execution_count": 3
        }
      ]
    },
    {
      "cell_type": "code",
      "metadata": {
        "id": "EAQ3r0kWTpUr",
        "colab_type": "code",
        "outputId": "8ab88f6d-cc2b-4717-8411-f83ce96191bf",
        "colab": {
          "base_uri": "https://localhost:8080/",
          "height": 72
        }
      },
      "source": [
        "# lookup suggestions for single-word input strings\n",
        "\n",
        "def spell_check ( wrn_spell ):\n",
        "  max_edit_distance_lookup = 2\n",
        "  sugs = symspell.lookup(wrn_spell , max_edit_distance_lookup)\n",
        "  for sug in sugs:\n",
        "    print (sug.term, sug.distance, sug.count)\n",
        "\n",
        "input_term = \"llocally\"  # misspelling of \"members\"\n",
        "spell_check( input_term)\n",
        "spell_check(\"memebers\")"
      ],
      "execution_count": 0,
      "outputs": [
        {
          "output_type": "stream",
          "text": [
            "locally 1 9356689\n",
            "members 1 226656153\n",
            "member 2 283858893\n"
          ],
          "name": "stdout"
        }
      ]
    },
    {
      "cell_type": "code",
      "metadata": {
        "id": "pUFclMAeTpYW",
        "colab_type": "code",
        "outputId": "66e8bc8d-cbcf-40c5-ffcd-a301936564b3",
        "colab": {
          "base_uri": "https://localhost:8080/",
          "height": 35
        }
      },
      "source": [
        "# lookup suggestions for multi-word input strings\n",
        "\n",
        "def cmp_check ( wrn_cmp ):\n",
        "  max_edit_distance_lookup = 2\n",
        "  sugs = symspell.lookup_compound (wrn_cmp,  max_edit_distance_lookup)\n",
        "  for sug in sugs:\n",
        "    print (sug.term, sug.distance, sug.count)\n",
        "\n",
        "cmp_check ( \"whereis th elove hehad dated forImuch of thepast who couqdn'tread in sixtgrade and ins pired him\" )"
      ],
      "execution_count": 0,
      "outputs": [
        {
          "output_type": "stream",
          "text": [
            "where is to love he had dated for much of ﻿the past who couldn't read in six grade and inspired him 11 0\n"
          ],
          "name": "stdout"
        }
      ]
    }
  ]
}